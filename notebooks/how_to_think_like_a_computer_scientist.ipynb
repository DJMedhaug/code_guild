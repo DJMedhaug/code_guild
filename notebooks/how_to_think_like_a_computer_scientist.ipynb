{
 "cells": [
  {
   "cell_type": "markdown",
   "metadata": {},
   "source": [
    "# *How to think like a computer scientist**\n",
    "### Thunder Shiviah (github.com/ThunderShiviah)\n",
    "##### *Disclaimer: I am not a computer scientist\n",
    "\n",
    "# A few words about my background\n",
    "\n",
    "# What this talk is about\n",
    "* Using abstraction to manage complexity\n",
    "\n",
    "# Introduction\n",
    "## The hardest part of programming?\n",
    "* Complexity\n",
    "\n",
    "# Examples of complexity\n",
    "* Major multi-million dollar projects without single working line of code\n",
    "* web frameworks\n",
    "\n",
    "# How do we deal with complexity?\n",
    "* Make it simple\n",
    "\n",
    "Elegance is power cloaked in simplicity -- Robins and Beebe, *classic shell scripting*"
   ]
  },
  {
   "cell_type": "markdown",
   "metadata": {},
   "source": [
    "# Algorithms\n",
    "# A motivating problem\n",
    "\n",
    "Find whether or not your data contains an element\n",
    "\n",
    "# Why we care\n",
    "\n",
    "* Databases\n",
    "\n",
    "# How is our data stored?\n",
    "* Lots of possibilities: str, list, dict, tuple, set etc.\n",
    "\n",
    "# Lists\n",
    "## Does our list contain a certain element?"
   ]
  },
  {
   "cell_type": "code",
   "execution_count": 1,
   "metadata": {
    "collapsed": false
   },
   "outputs": [
    {
     "name": "stdout",
     "output_type": "stream",
     "text": [
      "list =  [9, 34, 33, 86, 89, 30, 6, 8, 40, 34]\n"
     ]
    }
   ],
   "source": [
    "from random import randrange \n",
    "\n",
    "def get_rand_list(n=10, upper_num=100):\n",
    "    \"\"\"Returns a  list of random numbers.\n",
    "    \n",
    "    Parameters\n",
    "    ----------\n",
    "    upper_num: int\n",
    "        Sets the lower and upper bound for our random numbers\n",
    "    n: int\n",
    "        Sets the number of elements in our list.\n",
    "        \n",
    "    Returns\n",
    "    -------\n",
    "    list\n",
    "    \"\"\"\n",
    "    return [randrange(upper_num) for x in range(n)] # returns a list of n random numbers  \n",
    "\n",
    "lst = get_rand_list()\n",
    "print(\"list = \", lst)"
   ]
  },
  {
   "cell_type": "code",
   "execution_count": 2,
   "metadata": {
    "collapsed": false
   },
   "outputs": [
    {
     "name": "stdout",
     "output_type": "stream",
     "text": [
      "Element is in list: False\n"
     ]
    }
   ],
   "source": [
    "\n",
    "####### Exercise #######\n",
    "\n",
    "def list_search(elem, lst):\n",
    "    \"\"\" Returns True if elem is in lst and False otherwise.\"\"\"\n",
    "    return elem in lst\n",
    "\n",
    "####### Tests #######\n",
    "\n",
    "def list_search_pass_test():\n",
    "    lst = [1,2,3,4]\n",
    "    assert list_search(3, lst) == True\n",
    "    \n",
    "\n",
    "def list_search_fail_test():\n",
    "    lst = [1,2,3,4]\n",
    "    assert list_search(6, lst) == False\n",
    "\n",
    "    \n",
    "lst = get_rand_list()\n",
    "elem = 71    \n",
    "print(\"Element is in list: {bool}\".format(bool=list_search(elem, lst)))"
   ]
  },
  {
   "cell_type": "markdown",
   "metadata": {},
   "source": [
    "### How can we check?\n",
    "Start at the beginning and check every element (brute force)."
   ]
  },
  {
   "cell_type": "code",
   "execution_count": 3,
   "metadata": {
    "collapsed": false
   },
   "outputs": [],
   "source": [
    "####### Exercise #######\n",
    "\n",
    "def brute_force_search(elem, lst):\n",
    "    \"\"\"Returns True if elem is in lst and False otherwise.\"\"\"\n",
    "    \n",
    "    bool_lst = [elem for num in lst if elem == num]\n",
    "    return any(bool_lst) # returns false if bool_lst is empty\n",
    "            \n",
    "\n",
    "####### Tests #######\n",
    "\n",
    "def brute_force_search_pass_test():\n",
    "    lst = [1,2,3,4]\n",
    "    assert brute_force_search(3, lst) == True\n",
    "    \n",
    "\n",
    "def brute_force_search_fail_test():\n",
    "    lst = [1,2,3,4]\n",
    "    assert brute_force_search(6, lst) == False\n",
    "    \n",
    "\n",
    "brute_force_search_pass_test()\n",
    "brute_force_search_fail_test()"
   ]
  },
  {
   "cell_type": "markdown",
   "metadata": {},
   "source": [
    "### Brute force method\n",
    "* best case?\n",
    "* worst case?\n",
    "* what if the list is randomized? What's our average performance?\n",
    "* Exercise using timeit\n",
    "  * How does each case depend on the number of elements in the list?\n",
    "\n",
    "#### For reference\n"
   ]
  },
  {
   "cell_type": "markdown",
   "metadata": {},
   "source": [
    "<table style=\"border: 1px #aaa solid\">\n",
    "<tr>\n",
    "<th style=\"background:#edf; text-align: center\" colspan=\"2\">Prefix</th>\n",
    "<th style=\"background:#edf; text-align: center\" rowspan=\"2\">1000<sup><i>m</i></sup></th>\n",
    "<th style=\"background:#edf; text-align: center\" rowspan=\"2\">10<sup><i>n</i></sup></th>\n",
    "<th style=\"background:#edf; text-align: center\" rowspan=\"2\"><a href=\"/wiki/Decimal\" title=\"Decimal\">Decimal</a></th>\n",
    "<th style=\"background:#edf; text-align: center\" colspan=\"2\">English word</th>\n",
    "<th style=\"background:#edf; text-align: center\" rowspan=\"2\">Since<sup id=\"cite_ref-4\" class=\"reference\"><a href=\"#cite_note-4\"><span>[</span>nb 1<span>]</span></a></sup></th>\n",
    "</tr>\n",
    "<tr>\n",
    "<th style=\"background:#edf; text-align: center\">Name</th>\n",
    "<th style=\"background:#edf; text-align: center\">Symbol</th>\n",
    "<th style=\"background:#edf; text-align: left\"><a href=\"/wiki/Short_scale\" title=\"Short scale\" class=\"mw-redirect\">Short scale</a></th>\n",
    "<th style=\"background:#edf; text-align: left\"><a href=\"/wiki/Long_scale\" title=\"Long scale\" class=\"mw-redirect\">Long scale</a></th>\n",
    "</tr>\n",
    "<tr style=\"background-color:#EEE\">\n",
    "<td colspan=\"2\"></td>\n",
    "<td style=\"text-align:left;\">&#160;1000<sup>0</sup></td>\n",
    "<td style=\"text-align:left;\">&#160;<a href=\"/wiki/1_(number)\" title=\"1 (number)\">10<sup>0</sup></a></td>\n",
    "<td style=\"text-align:center;\">1</td>\n",
    "<td style=\"text-align:left;\" colspan=\"2\">&#160; &#160; &#160; &#160; &#160; &#160; one</td>\n",
    "<td>–</td>\n",
    "</tr>\n",
    "<tr style=\"background-color:#FFF\">\n",
    "<td><a href=\"/wiki/Deci-\" title=\"Deci-\">deci</a></td>\n",
    "<td style=\"text-align:center;\">d</td>\n",
    "<td style=\"text-align:left;\">&#160;1000<sup>−1/3</sup></td>\n",
    "<td style=\"text-align:left;\">&#160;<a href=\"/wiki/Orders_of_magnitude_(numbers)#10.E2.88.921\" title=\"Orders of magnitude (numbers)\">10<sup>−1</sup></a></td>\n",
    "<td style=\"text-align:left;\">0.1</td>\n",
    "<td style=\"text-align:left;\" colspan=\"2\">&#160; &#160; &#160; &#160; &#160; &#160; tenth</td>\n",
    "<td>1960&#160;(1795)</td>\n",
    "</tr>\n",
    "<tr style=\"background-color:#FFF\">\n",
    "<td><a href=\"/wiki/Centi-\" title=\"Centi-\">centi</a></td>\n",
    "<td style=\"text-align:center;\">c</td>\n",
    "<td style=\"text-align:left;\">&#160;1000<sup>−2/3</sup>&#160;</td>\n",
    "<td style=\"text-align:left;\">&#160;<a href=\"/wiki/Orders_of_magnitude_(numbers)#10.E2.88.922\" title=\"Orders of magnitude (numbers)\">10<sup>−2</sup></a></td>\n",
    "<td style=\"text-align:left;\">0.01</td>\n",
    "<td style=\"text-align:left;\" colspan=\"2\">&#160; &#160; &#160; &#160; &#160; &#160; hundredth</td>\n",
    "<td>1960&#160;(1795)</td>\n",
    "</tr>\n",
    "<tr>\n",
    "<td><a href=\"/wiki/Milli-\" title=\"Milli-\">milli</a></td>\n",
    "<td style=\"text-align:center;\">m</td>\n",
    "<td style=\"text-align:left;\">&#160;1000<sup>−1</sup></td>\n",
    "<td style=\"text-align:left;\">&#160;<a href=\"/wiki/Orders_of_magnitude_(numbers)#10.E2.88.923\" title=\"Orders of magnitude (numbers)\">10<sup>−3</sup></a></td>\n",
    "<td style=\"text-align:left;\">0.001</td>\n",
    "<td style=\"text-align:left;\" colspan=\"2\">&#160; &#160; &#160; &#160; &#160; &#160; thousandth</td>\n",
    "<td>1960&#160;(1795)</td>\n",
    "</tr>\n",
    "<tr>\n",
    "<td><strong class=\"selflink\">micro</strong></td>\n",
    "<td style=\"text-align:center;\">μ</td>\n",
    "<td style=\"text-align:left;\">&#160;1000<sup>−2</sup></td>\n",
    "<td style=\"text-align:left;\">&#160;<a href=\"/wiki/Orders_of_magnitude_(numbers)#10.E2.88.926\" title=\"Orders of magnitude (numbers)\">10<sup>−6</sup></a></td>\n",
    "<td style=\"text-align:left;\"><span style=\"white-space:nowrap\">0.000<span style=\"margin-left:0.2em\">001</span></span></td>\n",
    "<td style=\"text-align:left;\" colspan=\"2\">&#160; &#160; &#160; &#160; &#160; &#160; millionth</td>\n",
    "<td>1960&#160;(1873)</td>\n",
    "</tr>\n",
    "<tr>\n",
    "<td><a href=\"/wiki/Nano-\" title=\"Nano-\">nano</a></td>\n",
    "<td style=\"text-align:center;\">n</td>\n",
    "<td style=\"text-align:left;\">&#160;1000<sup>−3</sup></td>\n",
    "<td style=\"text-align:left;\">&#160;<a href=\"/wiki/Orders_of_magnitude_(numbers)#10.E2.88.929\" title=\"Orders of magnitude (numbers)\">10<sup>−9</sup></a></td>\n",
    "<td style=\"text-align:left;\"><span style=\"white-space:nowrap\">0.000<span style=\"margin-left:0.2em\">000</span><span style=\"margin-left:0.2em\">001</span></span></td>\n",
    "<td style=\"text-align:left;\">&#160;billionth</td>\n",
    "<td style=\"text-align:left;\">&#160;thousand&#160;millionth</td>\n",
    "<td>1960</td>\n",
    "</tr>\n",
    "<tr>\n",
    "<td colspan=\"8\" style=\"font-size:small;background:#EEE\"></td>\n",
    "</tr>\n",
    "</table>\n",
    "</td>\n",
    "</tr>\n",
    "</table>"
   ]
  },
  {
   "cell_type": "markdown",
   "metadata": {},
   "source": [
    "### Idea: what if our list was sorted?\n",
    "* A smarter search algorithm?\n",
    "\n",
    "### Binary Search\n",
    "\n",
    "We consider three cases:\n",
    "\n",
    "* If the target equals data[mid], then we have found the item we are looking\n",
    "for, and the search terminates successfully.\n",
    "* If target < data[mid], then we recur on the first half of the sequence, that is,\n",
    "on the interval of indices from low to mid − 1.\n",
    "* If target > data[mid], then we recur on the second half of the sequence, that\n",
    "is, on the interval of indices from mid + 1 to high.\n",
    "An unsuccessful search occurs if low > high, as the interval [low, high] is empty."
   ]
  },
  {
   "cell_type": "code",
   "execution_count": 20,
   "metadata": {
    "collapsed": true
   },
   "outputs": [],
   "source": [
    "def binary_search(alist, item):\n",
    "    first = 0\n",
    "    last = len(alist)-1\n",
    "    found = False\n",
    "\n",
    "    while first<=last and not found:\n",
    "        midpoint = (first + last)//2\n",
    "        if alist[midpoint] == item:\n",
    "            found = True\n",
    "        else:\n",
    "            if item < alist[midpoint]:\n",
    "                last = midpoint-1\n",
    "            else:\n",
    "                first = midpoint+1\n",
    "\n",
    "    return found"
   ]
  },
  {
   "cell_type": "code",
   "execution_count": 24,
   "metadata": {
    "collapsed": false
   },
   "outputs": [
    {
     "data": {
      "text/plain": [
       "[9, 15, 16, 16, 31, 46, 52, 84, 86, 97]"
      ]
     },
     "execution_count": 24,
     "metadata": {},
     "output_type": "execute_result"
    }
   ],
   "source": [
    "lst = sorted(get_rand_list())\n",
    "lst"
   ]
  },
  {
   "cell_type": "code",
   "execution_count": 25,
   "metadata": {
    "collapsed": false
   },
   "outputs": [
    {
     "data": {
      "text/plain": [
       "True"
      ]
     },
     "execution_count": 25,
     "metadata": {},
     "output_type": "execute_result"
    }
   ],
   "source": [
    "binary_search(lst, 46)"
   ]
  },
  {
   "cell_type": "markdown",
   "metadata": {},
   "source": [
    "* Exercise using timeit\n",
    "  * How does each case depend on the number of elements in the list?\n",
    "\n",
    "* Divide and conquer\n",
    "* Binary search tree\n",
    "* Recursion\n"
   ]
  },
  {
   "cell_type": "code",
   "execution_count": 26,
   "metadata": {
    "collapsed": false
   },
   "outputs": [
    {
     "name": "stdout",
     "output_type": "stream",
     "text": [
      "False\n",
      "True\n"
     ]
    }
   ],
   "source": [
    "def binarySearch(alist, item):\n",
    "    \"\"\"Recursive version\"\"\"\n",
    "    if len(alist) == 0:\n",
    "        return False\n",
    "    else:\n",
    "        midpoint = len(alist)//2\n",
    "        if alist[midpoint]==item:\n",
    "            return True\n",
    "        else:\n",
    "            if item<alist[midpoint]:\n",
    "                return binarySearch(alist[:midpoint],item)\n",
    "            else:\n",
    "                return binarySearch(alist[midpoint+1:],item)\n",
    "\n",
    "testlist = [0, 1, 2, 8, 13, 17, 19, 32, 42,]\n",
    "print(binarySearch(testlist, 3))\n",
    "print(binarySearch(testlist, 13))"
   ]
  },
  {
   "cell_type": "markdown",
   "metadata": {},
   "source": [
    "### Comparing binary search to brute force\n",
    "* time complexity\n",
    "* Big O notation"
   ]
  },
  {
   "cell_type": "markdown",
   "metadata": {},
   "source": [
    "<table border=\"1\" class=\"docutils\" id=\"id1\">\n",
    "<span id=\"tbl-fntable\"></span><caption><span class=\"caption-text\"><strong>Table 1: Common Functions for Big-O</strong></span><a class=\"headerlink\" href=\"#id1\" title=\"Permalink to this table\">¶</a></caption>\n",
    "<colgroup>\n",
    "<col width=\"57%\" />\n",
    "<col width=\"43%\" />\n",
    "</colgroup>\n",
    "<thead valign=\"bottom\">\n",
    "<tr class=\"row-odd\"><th class=\"head\"><strong>f(n)</strong></th>\n",
    "<th class=\"head\"><strong>Name</strong></th>\n",
    "</tr>\n",
    "</thead>\n",
    "<tbody valign=\"top\">\n",
    "<tr class=\"row-even\"><td><span class=\"math\">\\(1\\)</span></td>\n",
    "<td>Constant</td>\n",
    "</tr>\n",
    "<tr class=\"row-odd\"><td><span class=\"math\">\\(\\log n\\)</span></td>\n",
    "<td>Logarithmic</td>\n",
    "</tr>\n",
    "<tr class=\"row-even\"><td><span class=\"math\">\\(n\\)</span></td>\n",
    "<td>Linear</td>\n",
    "</tr>\n",
    "<tr class=\"row-odd\"><td><span class=\"math\">\\(n\\log n\\)</span></td>\n",
    "<td>Log Linear</td>\n",
    "</tr>\n",
    "<tr class=\"row-even\"><td><span class=\"math\">\\(n^{2}\\)</span></td>\n",
    "<td>Quadratic</td>\n",
    "</tr>\n",
    "<tr class=\"row-odd\"><td><span class=\"math\">\\(n^{3}\\)</span></td>\n",
    "<td>Cubic</td>\n",
    "</tr>\n",
    "<tr class=\"row-even\"><td><span class=\"math\">\\(2^{n}\\)</span></td>\n",
    "<td>Exponential</td>\n",
    "</tr>\n",
    "</tbody>\n",
    "</table>"
   ]
  },
  {
   "cell_type": "markdown",
   "metadata": {},
   "source": [
    "![./newplot.png](./newplot.png)"
   ]
  },
  {
   "cell_type": "markdown",
   "metadata": {},
   "source": [
    "  * Brute force: O(n)\n",
    "  * Binary search: O(log(n))\n",
    "\n",
    "## A new problem: sorting!\n",
    "### First attempt: brute force aka bubble sort"
   ]
  },
  {
   "cell_type": "code",
   "execution_count": 27,
   "metadata": {
    "collapsed": false
   },
   "outputs": [
    {
     "name": "stdout",
     "output_type": "stream",
     "text": [
      "[17, 20, 26, 31, 44, 54, 55, 77, 93]\n"
     ]
    }
   ],
   "source": [
    "def bubbleSort(alist):\n",
    "    for passnum in range(len(alist)-1,0,-1):\n",
    "        for i in range(passnum):\n",
    "            if alist[i]>alist[i+1]:\n",
    "                temp = alist[i]\n",
    "                alist[i] = alist[i+1]\n",
    "                alist[i+1] = temp\n",
    "\n",
    "alist = [54,26,93,17,77,31,44,55,20]\n",
    "bubbleSort(alist)\n",
    "print(alist)\n"
   ]
  },
  {
   "cell_type": "markdown",
   "metadata": {},
   "source": [
    "* Time complexity\n",
    "\n",
    "### Merge Sort\n",
    "\n",
    "#### Splitting step\n",
    "![splitting](./mergesortA.png)\n",
    "#### Merging step\n",
    "![merging](./mergesortB.png)\n",
    "\n",
    "#### visualization\n",
    "[link](http://bl.ocks.org/mbostock/39566aca95eb03ddd526)"
   ]
  },
  {
   "cell_type": "code",
   "execution_count": 29,
   "metadata": {
    "collapsed": false
   },
   "outputs": [
    {
     "name": "stdout",
     "output_type": "stream",
     "text": [
      "Splitting  [54, 26, 93, 17, 77, 31, 44, 55, 20]\n",
      "Splitting  [54, 26, 93, 17]\n",
      "Splitting  [54, 26]\n",
      "Splitting  [54]\n",
      "Merging  [54]\n",
      "Splitting  [26]\n",
      "Merging  [26]\n",
      "Merging  [26, 54]\n",
      "Splitting  [93, 17]\n",
      "Splitting  [93]\n",
      "Merging  [93]\n",
      "Splitting  [17]\n",
      "Merging  [17]\n",
      "Merging  [17, 93]\n",
      "Merging  [17, 26, 54, 93]\n",
      "Splitting  [77, 31, 44, 55, 20]\n",
      "Splitting  [77, 31]\n",
      "Splitting  [77]\n",
      "Merging  [77]\n",
      "Splitting  [31]\n",
      "Merging  [31]\n",
      "Merging  [31, 77]\n",
      "Splitting  [44, 55, 20]\n",
      "Splitting  [44]\n",
      "Merging  [44]\n",
      "Splitting  [55, 20]\n",
      "Splitting  [55]\n",
      "Merging  [55]\n",
      "Splitting  [20]\n",
      "Merging  [20]\n",
      "Merging  [20, 55]\n",
      "Merging  [20, 44, 55]\n",
      "Merging  [20, 31, 44, 55, 77]\n",
      "Merging  [17, 20, 26, 31, 44, 54, 55, 77, 93]\n",
      "[17, 20, 26, 31, 44, 54, 55, 77, 93]\n"
     ]
    }
   ],
   "source": [
    "def mergeSort(alist):\n",
    "    print(\"Splitting \",alist)\n",
    "    if len(alist)>1:\n",
    "        mid = len(alist)//2\n",
    "        lefthalf = alist[:mid]\n",
    "        righthalf = alist[mid:]\n",
    "\n",
    "        mergeSort(lefthalf)\n",
    "        mergeSort(righthalf)\n",
    "\n",
    "        i=0\n",
    "        j=0\n",
    "        k=0\n",
    "        while i < len(lefthalf) and j < len(righthalf):\n",
    "            if lefthalf[i] < righthalf[j]:\n",
    "                alist[k]=lefthalf[i]\n",
    "                i=i+1\n",
    "            else:\n",
    "                alist[k]=righthalf[j]\n",
    "                j=j+1\n",
    "            k=k+1\n",
    "\n",
    "        while i < len(lefthalf):\n",
    "            alist[k]=lefthalf[i]\n",
    "            i=i+1\n",
    "            k=k+1\n",
    "\n",
    "        while j < len(righthalf):\n",
    "            alist[k]=righthalf[j]\n",
    "            j=j+1\n",
    "            k=k+1\n",
    "    print(\"Merging \",alist)\n",
    "\n",
    "alist = [54,26,93,17,77,31,44,55,20]\n",
    "mergeSort(alist)\n",
    "print(alist)"
   ]
  },
  {
   "cell_type": "markdown",
   "metadata": {},
   "source": [
    "* Time complexity\n",
    "* A note about recursion\n",
    "\n",
    "## Examples of other searches and sorting\n",
    "* [Mike Bostock](http://bost.ocks.org/mike/algorithms/)\n",
    "\n",
    "## A word on python's search and sort methods\n",
    "### List\n",
    "\n",
    "* Python's sort method actually uses a special variant of mergesort called [timsort](https://en.wikipedia.org/wiki/Timsort) ([read about it here](http://svn.python.org/projects/python/trunk/Objects/listsort.txt)) which was invented by Tim Peters in 2002. Timsort takes advantage of possible runs in the data (subsets of the data that are already ordered) to achieve a best case performance of $O(n)$ compared to merge sort's best case performance of $O(nlog(n))$."
   ]
  },
  {
   "cell_type": "markdown",
   "metadata": {},
   "source": [
    "<span class=\"anchor\" id=\"line-9\"></span><div><table style=\"width:\"><tbody><tr>  <td><p class=\"line891\"><strong>Operation</strong> </td>\n",
    "  <td><p class=\"line891\"><strong>Average Case</strong> </td>\n",
    "  <td><p class=\"line891\"><strong><a class=\"http\" href=\"http://en.wikipedia.org/wiki/Amortized_analysis\">Amortized Worst Case</a></strong> </td>\n",
    "</tr>\n",
    "<tr>  <td><span class=\"anchor\" id=\"line-10\"></span><p class=\"line862\">Copy </td>\n",
    "  <td><p class=\"line862\">O(n) </td>\n",
    "  <td><p class=\"line862\">O(n) </td>\n",
    "</tr>\n",
    "<tr>  <td><span class=\"anchor\" id=\"line-11\"></span><p class=\"line862\">Append[1] </td>\n",
    "  <td><p class=\"line862\">O(1) </td>\n",
    "  <td><p class=\"line862\">O(1) </td>\n",
    "</tr>\n",
    "<tr>  <td><span class=\"anchor\" id=\"line-12\"></span><p class=\"line862\">Insert </td>\n",
    "  <td><p class=\"line862\">O(n) </td>\n",
    "  <td><p class=\"line862\">O(n) </td>\n",
    "</tr>\n",
    "<tr>  <td><span class=\"anchor\" id=\"line-13\"></span><p class=\"line862\">Get Item </td>\n",
    "  <td><p class=\"line862\">O(1) </td>\n",
    "  <td><p class=\"line862\">O(1) </td>\n",
    "</tr>\n",
    "<tr>  <td><span class=\"anchor\" id=\"line-14\"></span><p class=\"line862\">Set Item </td>\n",
    "  <td><p class=\"line862\">O(1) </td>\n",
    "  <td><p class=\"line862\">O(1) </td>\n",
    "</tr>\n",
    "<tr>  <td><span class=\"anchor\" id=\"line-15\"></span><p class=\"line862\">Delete Item </td>\n",
    "  <td><p class=\"line862\">O(n) </td>\n",
    "  <td><p class=\"line862\">O(n) </td>\n",
    "</tr>\n",
    "<tr>  <td><span class=\"anchor\" id=\"line-16\"></span><p class=\"line862\">Iteration </td>\n",
    "  <td><p class=\"line862\">O(n) </td>\n",
    "  <td><p class=\"line862\">O(n) </td>\n",
    "</tr>\n",
    "<tr>  <td><span class=\"anchor\" id=\"line-17\"></span><p class=\"line862\">Get Slice </td>\n",
    "  <td><p class=\"line862\">O(k) </td>\n",
    "  <td><p class=\"line862\">O(k) </td>\n",
    "</tr>\n",
    "<tr>  <td><span class=\"anchor\" id=\"line-18\"></span><p class=\"line862\">Del Slice </td>\n",
    "  <td><p class=\"line862\">O(n) </td>\n",
    "  <td><p class=\"line862\">O(n) </td>\n",
    "</tr>\n",
    "<tr>  <td><span class=\"anchor\" id=\"line-19\"></span><p class=\"line862\">Set Slice </td>\n",
    "  <td><p class=\"line862\">O(k+n) </td>\n",
    "  <td><p class=\"line862\">O(k+n) </td>\n",
    "</tr>\n",
    "<tr>  <td><span class=\"anchor\" id=\"line-20\"></span><p class=\"line862\">Extend[1] </td>\n",
    "  <td><p class=\"line862\">O(k) </td>\n",
    "  <td><p class=\"line862\">O(k) </td>\n",
    "</tr>\n",
    "<tr>  <td><span class=\"anchor\" id=\"line-21\"></span><p class=\"line891\"><a class=\"http\" href=\"http://svn.python.org/projects/python/trunk/Objects/listsort.txt\">Sort</a> </td>\n",
    "  <td><p class=\"line862\">O(n log n) </td>\n",
    "  <td><p class=\"line862\">O(n log n) </td>\n",
    "</tr>\n",
    "<tr>  <td><span class=\"anchor\" id=\"line-22\"></span><p class=\"line862\">Multiply </td>\n",
    "  <td><p class=\"line862\">O(nk) </td>\n",
    "  <td><p class=\"line862\">O(nk) </td>\n",
    "</tr>\n",
    "<tr>  <td><span class=\"anchor\" id=\"line-23\"></span><p class=\"line862\">x in s </td>\n",
    "  <td><p class=\"line862\">O(n) </td>\n",
    "  <td><p class=\"line862\"> </td>\n",
    "</tr>\n",
    "<tr>  <td><span class=\"anchor\" id=\"line-24\"></span><p class=\"line862\">min(s), max(s) </td>\n",
    "  <td><p class=\"line862\">O(n) </td>\n",
    "  <td><p class=\"line862\"> </td>\n",
    "</tr>\n",
    "<tr>  <td><span class=\"anchor\" id=\"line-25\"></span><p class=\"line862\">Get Length </td>\n",
    "  <td><p class=\"line862\">O(1) </td>\n",
    "  <td><p class=\"line862\">O(1) </td>\n",
    "</tr>\n",
    "</tbody></table></div><span class=\"anchor\" id=\"line-26\"></span><span class=\"anchor\" id=\"line-27\"></span><span class=\"anchor\" id=\"line-28\"></span>"
   ]
  },
  {
   "cell_type": "markdown",
   "metadata": {},
   "source": [
    "## Summary of algorithms\n",
    "* Abstraction\n",
    "  * Language and hardware agnostic\n",
    "  * Big O notation\n",
    "  * Algorithms\n",
    "  "
   ]
  }
 ],
 "metadata": {
  "kernelspec": {
   "display_name": "Python 3",
   "language": "python",
   "name": "python3"
  },
  "language_info": {
   "codemirror_mode": {
    "name": "ipython",
    "version": 3
   },
   "file_extension": ".py",
   "mimetype": "text/x-python",
   "name": "python",
   "nbconvert_exporter": "python",
   "pygments_lexer": "ipython3",
   "version": "3.4.3"
  }
 },
 "nbformat": 4,
 "nbformat_minor": 0
}
