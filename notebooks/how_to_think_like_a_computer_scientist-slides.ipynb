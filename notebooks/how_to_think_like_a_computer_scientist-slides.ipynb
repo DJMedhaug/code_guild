{
 "cells": [
  {
   "cell_type": "markdown",
   "metadata": {
    "slideshow": {
     "slide_type": "slide"
    }
   },
   "source": [
    "# *How to think like a computer scientist**\n",
    "### Thunder Shiviah (github.com/ThunderShiviah)"
   ]
  },
  {
   "cell_type": "markdown",
   "metadata": {
    "slideshow": {
     "slide_type": "fragment"
    }
   },
   "source": [
    "##### *Disclaimer: I am not a computer scientist"
   ]
  },
  {
   "cell_type": "markdown",
   "metadata": {
    "slideshow": {
     "slide_type": "slide"
    }
   },
   "source": [
    "# A few words about my background"
   ]
  },
  {
   "cell_type": "markdown",
   "metadata": {
    "slideshow": {
     "slide_type": "slide"
    }
   },
   "source": [
    "# What this talk is about\n",
    "* Using abstraction to manage complexity"
   ]
  },
  {
   "cell_type": "markdown",
   "metadata": {
    "slideshow": {
     "slide_type": "slide"
    }
   },
   "source": [
    "## The hardest part of programming?\n"
   ]
  },
  {
   "cell_type": "markdown",
   "metadata": {
    "slideshow": {
     "slide_type": "slide"
    }
   },
   "source": [
    "# Examples of complexity\n",
    "\n",
    "* Major multi-million dollar projects without single working line of code\n",
    "\n",
    ">Development of the website that would process online enrollments was done by Oracle Corporation and managed by the state of Oregon rather than an independent systems integrator.[11] The project was plagued by numerous management and technological issues, and though the website was supposed to begin processing enrollments on October 1, by mid-October, it was unable to process any enrollments.[12] "
   ]
  },
  {
   "cell_type": "markdown",
   "metadata": {
    "slideshow": {
     "slide_type": "slide"
    }
   },
   "source": [
    ">As of mid-December 2013, the deadline for enrollment for coverage beginning January 1, the state had spent nearly \\$160 million and the site still could not process online enrollments.[11] Governor John Kitzhaber informed Oregon residents that they should obtain a paper application and mail it in to obtain coverage. "
   ]
  },
  {
   "cell_type": "markdown",
   "metadata": {
    "slideshow": {
     "slide_type": "slide"
    }
   },
   "source": [
    "* Radiation overdoses\n",
    "\n",
    ">The Therac-25 was a radiation therapy machine produced by Atomic Energy of Canada Limited...\n",
    "\n",
    ">**It was involved in at least six accidents between 1985 and 1987, in which patients were given massive overdoses of radiation. Because of concurrent programming errors, it sometimes gave its patients radiation doses that were thousands of times greater than normal, resulting in death or serious injury.**[2] These accidents highlighted the dangers of software control of safety-critical systems..."
   ]
  },
  {
   "cell_type": "markdown",
   "metadata": {
    "slideshow": {
     "slide_type": "slide"
    }
   },
   "source": [
    ">**A commission concluded that the primary reason should be attributed to the bad software design and development practices, and not explicitly to several coding errors that were found. In particular, the software was designed so that it was realistically impossible to test it in a clean automated way.**[5]\n",
    "\n",
    "* The list goes on and on"
   ]
  },
  {
   "cell_type": "markdown",
   "metadata": {
    "slideshow": {
     "slide_type": "slide"
    }
   },
   "source": [
    "# How do we deal with complexity?\n",
    "* Make it simple"
   ]
  },
  {
   "cell_type": "markdown",
   "metadata": {
    "slideshow": {
     "slide_type": "slide"
    }
   },
   "source": [
    "**Elegance is power cloaked in simplicity** -- Robins and Beebe, *classic shell scripting*"
   ]
  },
  {
   "cell_type": "markdown",
   "metadata": {
    "slideshow": {
     "slide_type": "slide"
    }
   },
   "source": [
    "# Algorithms"
   ]
  },
  {
   "cell_type": "markdown",
   "metadata": {
    "slideshow": {
     "slide_type": "slide"
    }
   },
   "source": [
    "# A motivating problem\n",
    "\n",
    "Find whether or not your data contains an element"
   ]
  },
  {
   "cell_type": "markdown",
   "metadata": {
    "slideshow": {
     "slide_type": "slide"
    }
   },
   "source": [
    "# Why we care\n",
    "\n",
    "* Databases"
   ]
  },
  {
   "cell_type": "markdown",
   "metadata": {
    "slideshow": {
     "slide_type": "slide"
    }
   },
   "source": [
    "# How is our data stored?\n",
    "* Lots of possibilities: str, list, dict, tuple, set etc."
   ]
  },
  {
   "cell_type": "markdown",
   "metadata": {
    "slideshow": {
     "slide_type": "slide"
    }
   },
   "source": [
    "# Does our list contain a certain element?"
   ]
  },
  {
   "cell_type": "code",
   "execution_count": 3,
   "metadata": {
    "collapsed": false,
    "slideshow": {
     "slide_type": "slide"
    }
   },
   "outputs": [
    {
     "name": "stdout",
     "output_type": "stream",
     "text": [
      "list =  [36, 2, 18, 20, 19, 2, 92, 94, 85, 53]\n"
     ]
    }
   ],
   "source": [
    "from random import randrange \n",
    "\n",
    "def get_rand_list(n=10, upper_num=100):\n",
    "    \"\"\"Returns a  list of random numbers.\n",
    "    \n",
    "    Parameters\n",
    "    ----------\n",
    "    upper_num: int\n",
    "        Sets the lower and upper bound for our random numbers\n",
    "    n: int\n",
    "        Sets the number of elements in our list.\n",
    "        \n",
    "    Returns\n",
    "    -------\n",
    "    list\n",
    "    \"\"\"\n",
    "    return [randrange(upper_num) for x in range(n)] # returns a list of n random numbers  \n",
    "\n",
    "lst = get_rand_list()\n",
    "print(\"list = \", lst)"
   ]
  },
  {
   "cell_type": "code",
   "execution_count": 4,
   "metadata": {
    "collapsed": false,
    "slideshow": {
     "slide_type": "slide"
    }
   },
   "outputs": [
    {
     "name": "stdout",
     "output_type": "stream",
     "text": [
      "Element is in list: False\n"
     ]
    }
   ],
   "source": [
    "\n",
    "####### Exercise #######\n",
    "\n",
    "def list_search(elem, lst):\n",
    "    \"\"\" Returns True if elem is in lst and False otherwise.\"\"\"\n",
    "    return elem in lst\n",
    "\n",
    "####### Tests #######\n",
    "\n",
    "def list_search_pass_test():\n",
    "    lst = [1,2,3,4]\n",
    "    assert list_search(3, lst) == True\n",
    "    \n",
    "\n",
    "def list_search_fail_test():\n",
    "    lst = [1,2,3,4]\n",
    "    assert list_search(6, lst) == False\n",
    "\n",
    "    \n",
    "lst = get_rand_list()\n",
    "elem = 71    \n",
    "print(\"Element is in list: {bool}\".format(bool=list_search(elem, lst)))"
   ]
  },
  {
   "cell_type": "markdown",
   "metadata": {
    "slideshow": {
     "slide_type": "slide"
    }
   },
   "source": [
    "### How can we check?\n",
    "Start at the beginning and check every element (brute force)."
   ]
  },
  {
   "cell_type": "code",
   "execution_count": 5,
   "metadata": {
    "collapsed": false,
    "slideshow": {
     "slide_type": "slide"
    }
   },
   "outputs": [],
   "source": [
    "####### Exercise #######\n",
    "\n",
    "def brute_force_search(elem, lst):\n",
    "    \"\"\"Returns True if elem is in lst and False otherwise.\"\"\"\n",
    "    \n",
    "    bool_lst = [elem for num in lst if elem == num]\n",
    "    return any(bool_lst) # returns false if bool_lst is empty\n",
    "            \n",
    "\n",
    "####### Tests #######\n",
    "\n",
    "def brute_force_search_pass_test():\n",
    "    lst = [1,2,3,4]\n",
    "    assert brute_force_search(3, lst) == True\n",
    "    \n",
    "\n",
    "def brute_force_search_fail_test():\n",
    "    lst = [1,2,3,4]\n",
    "    assert brute_force_search(6, lst) == False\n",
    "    \n",
    "\n",
    "brute_force_search_pass_test()\n",
    "brute_force_search_fail_test()"
   ]
  },
  {
   "cell_type": "markdown",
   "metadata": {
    "slideshow": {
     "slide_type": "slide"
    }
   },
   "source": [
    "### Brute force method\n",
    "* best case?\n",
    "* worst case?\n",
    "* what if the list is randomized? What's our average performance?\n",
    "* Exercise using timeit\n",
    "  * How does each case depend on the number of elements in the list?\n"
   ]
  },
  {
   "cell_type": "markdown",
   "metadata": {
    "slideshow": {
     "slide_type": "slide"
    }
   },
   "source": [
    "<table style=\"border: 1px #aaa solid\">\n",
    "<tr>\n",
    "<th style=\"background:#edf; text-align: center\" colspan=\"2\">Prefix</th>\n",
    "<th style=\"background:#edf; text-align: center\" rowspan=\"2\">1000<sup><i>m</i></sup></th>\n",
    "<th style=\"background:#edf; text-align: center\" rowspan=\"2\">10<sup><i>n</i></sup></th>\n",
    "<th style=\"background:#edf; text-align: center\" rowspan=\"2\"><a href=\"/wiki/Decimal\" title=\"Decimal\">Decimal</a></th>\n",
    "<th style=\"background:#edf; text-align: center\" colspan=\"2\">English word</th>\n",
    "<th style=\"background:#edf; text-align: center\" rowspan=\"2\">Since<sup id=\"cite_ref-4\" class=\"reference\"><a href=\"#cite_note-4\"><span>[</span>nb 1<span>]</span></a></sup></th>\n",
    "</tr>\n",
    "<tr>\n",
    "<th style=\"background:#edf; text-align: center\">Name</th>\n",
    "<th style=\"background:#edf; text-align: center\">Symbol</th>\n",
    "<th style=\"background:#edf; text-align: left\"><a href=\"/wiki/Short_scale\" title=\"Short scale\" class=\"mw-redirect\">Short scale</a></th>\n",
    "<th style=\"background:#edf; text-align: left\"><a href=\"/wiki/Long_scale\" title=\"Long scale\" class=\"mw-redirect\">Long scale</a></th>\n",
    "</tr>\n",
    "<tr style=\"background-color:#EEE\">\n",
    "<td colspan=\"2\"></td>\n",
    "<td style=\"text-align:left;\">&#160;1000<sup>0</sup></td>\n",
    "<td style=\"text-align:left;\">&#160;<a href=\"/wiki/1_(number)\" title=\"1 (number)\">10<sup>0</sup></a></td>\n",
    "<td style=\"text-align:center;\">1</td>\n",
    "<td style=\"text-align:left;\" colspan=\"2\">&#160; &#160; &#160; &#160; &#160; &#160; one</td>\n",
    "<td>–</td>\n",
    "</tr>\n",
    "<tr style=\"background-color:#FFF\">\n",
    "<td><a href=\"/wiki/Deci-\" title=\"Deci-\">deci</a></td>\n",
    "<td style=\"text-align:center;\">d</td>\n",
    "<td style=\"text-align:left;\">&#160;1000<sup>−1/3</sup></td>\n",
    "<td style=\"text-align:left;\">&#160;<a href=\"/wiki/Orders_of_magnitude_(numbers)#10.E2.88.921\" title=\"Orders of magnitude (numbers)\">10<sup>−1</sup></a></td>\n",
    "<td style=\"text-align:left;\">0.1</td>\n",
    "<td style=\"text-align:left;\" colspan=\"2\">&#160; &#160; &#160; &#160; &#160; &#160; tenth</td>\n",
    "<td>1960&#160;(1795)</td>\n",
    "</tr>\n",
    "<tr style=\"background-color:#FFF\">\n",
    "<td><a href=\"/wiki/Centi-\" title=\"Centi-\">centi</a></td>\n",
    "<td style=\"text-align:center;\">c</td>\n",
    "<td style=\"text-align:left;\">&#160;1000<sup>−2/3</sup>&#160;</td>\n",
    "<td style=\"text-align:left;\">&#160;<a href=\"/wiki/Orders_of_magnitude_(numbers)#10.E2.88.922\" title=\"Orders of magnitude (numbers)\">10<sup>−2</sup></a></td>\n",
    "<td style=\"text-align:left;\">0.01</td>\n",
    "<td style=\"text-align:left;\" colspan=\"2\">&#160; &#160; &#160; &#160; &#160; &#160; hundredth</td>\n",
    "<td>1960&#160;(1795)</td>\n",
    "</tr>\n",
    "<tr>\n",
    "<td><a href=\"/wiki/Milli-\" title=\"Milli-\">milli</a></td>\n",
    "<td style=\"text-align:center;\">m</td>\n",
    "<td style=\"text-align:left;\">&#160;1000<sup>−1</sup></td>\n",
    "<td style=\"text-align:left;\">&#160;<a href=\"/wiki/Orders_of_magnitude_(numbers)#10.E2.88.923\" title=\"Orders of magnitude (numbers)\">10<sup>−3</sup></a></td>\n",
    "<td style=\"text-align:left;\">0.001</td>\n",
    "<td style=\"text-align:left;\" colspan=\"2\">&#160; &#160; &#160; &#160; &#160; &#160; thousandth</td>\n",
    "<td>1960&#160;(1795)</td>\n",
    "</tr>\n",
    "<tr>\n",
    "<td><strong class=\"selflink\">micro</strong></td>\n",
    "<td style=\"text-align:center;\">μ</td>\n",
    "<td style=\"text-align:left;\">&#160;1000<sup>−2</sup></td>\n",
    "<td style=\"text-align:left;\">&#160;<a href=\"/wiki/Orders_of_magnitude_(numbers)#10.E2.88.926\" title=\"Orders of magnitude (numbers)\">10<sup>−6</sup></a></td>\n",
    "<td style=\"text-align:left;\"><span style=\"white-space:nowrap\">0.000<span style=\"margin-left:0.2em\">001</span></span></td>\n",
    "<td style=\"text-align:left;\" colspan=\"2\">&#160; &#160; &#160; &#160; &#160; &#160; millionth</td>\n",
    "<td>1960&#160;(1873)</td>\n",
    "</tr>\n",
    "<tr>\n",
    "<td><a href=\"/wiki/Nano-\" title=\"Nano-\">nano</a></td>\n",
    "<td style=\"text-align:center;\">n</td>\n",
    "<td style=\"text-align:left;\">&#160;1000<sup>−3</sup></td>\n",
    "<td style=\"text-align:left;\">&#160;<a href=\"/wiki/Orders_of_magnitude_(numbers)#10.E2.88.929\" title=\"Orders of magnitude (numbers)\">10<sup>−9</sup></a></td>\n",
    "<td style=\"text-align:left;\"><span style=\"white-space:nowrap\">0.000<span style=\"margin-left:0.2em\">000</span><span style=\"margin-left:0.2em\">001</span></span></td>\n",
    "<td style=\"text-align:left;\">&#160;billionth</td>\n",
    "<td style=\"text-align:left;\">&#160;thousand&#160;millionth</td>\n",
    "<td>1960</td>\n",
    "</tr>\n",
    "<tr>\n",
    "<td colspan=\"8\" style=\"font-size:small;background:#EEE\"></td>\n",
    "</tr>\n",
    "</table>\n",
    "</td>\n",
    "</tr>\n",
    "</table>"
   ]
  },
  {
   "cell_type": "markdown",
   "metadata": {
    "slideshow": {
     "slide_type": "slide"
    }
   },
   "source": [
    "### Idea: what if our list was sorted?\n",
    "* A smarter search algorithm?"
   ]
  },
  {
   "cell_type": "markdown",
   "metadata": {
    "slideshow": {
     "slide_type": "slide"
    }
   },
   "source": [
    "### Binary Search\n",
    "\n",
    "We consider three cases:\n",
    "\n",
    "* If the target equals data[mid], then we have found the item we are looking\n",
    "for, and the search terminates successfully.\n",
    "* If target < data[mid], then we recur on the first half of the sequence, that is,\n",
    "on the interval of indices from low to mid − 1.\n",
    "* If target > data[mid], then we recur on the second half of the sequence, that\n",
    "is, on the interval of indices from mid + 1 to high.\n",
    "An unsuccessful search occurs if low > high, as the interval [low, high] is empty."
   ]
  },
  {
   "cell_type": "code",
   "execution_count": 117,
   "metadata": {
    "collapsed": false,
    "slideshow": {
     "slide_type": "slide"
    }
   },
   "outputs": [
    {
     "name": "stdout",
     "output_type": "stream",
     "text": [
      "False\n",
      "True\n"
     ]
    }
   ],
   "source": [
    "\"\"\"\n",
    "def binary_search(elem, lst):\n",
    "    assert lst == sorted(lst), 'list must be sorted for binary search'\n",
    "    first = 0\n",
    "    last = len(lst)-1\n",
    "    found = False\n",
    "\n",
    "    while first<=last and not found:\n",
    "        midpoint = (first + last)//2\n",
    "        if lst[midpoint] == elem:\n",
    "            found = True\n",
    "        else:\n",
    "            if elem < lst[midpoint]:\n",
    "                last = midpoint-1\n",
    "            else:\n",
    "                first = midpoint+1\n",
    "\n",
    "    return found\n",
    "\"\"\"\n",
    "\n",
    "def binary_search(item, alist):\n",
    "    if len(alist) == 0:\n",
    "        return False\n",
    "    else:\n",
    "        midpoint = len(alist)//2\n",
    "        if alist[midpoint]==item:\n",
    "            return True\n",
    "        else:\n",
    "            if item<alist[midpoint]:\n",
    "                return binary_search(item, alist[:midpoint])\n",
    "            else:\n",
    "                return binary_search(item, alist[midpoint+1:])\n",
    "\n",
    "testlist = [0, 1, 2, 8, 13, 17, 19, 32, 42,]\n",
    "print(binary_search(3, testlist))\n",
    "print(binary_search(13, testlist))"
   ]
  },
  {
   "cell_type": "code",
   "execution_count": 118,
   "metadata": {
    "collapsed": false,
    "slideshow": {
     "slide_type": "slide"
    }
   },
   "outputs": [
    {
     "data": {
      "text/plain": [
       "[89, 94, 77, 87, 41, 94, 96, 39, 85, 95]"
      ]
     },
     "execution_count": 118,
     "metadata": {},
     "output_type": "execute_result"
    }
   ],
   "source": [
    "#lst = sorted(get_rand_list())\n",
    "lst = get_rand_list()\n",
    "lst"
   ]
  },
  {
   "cell_type": "code",
   "execution_count": 119,
   "metadata": {
    "collapsed": false,
    "slideshow": {
     "slide_type": "fragment"
    }
   },
   "outputs": [
    {
     "data": {
      "text/plain": [
       "False"
      ]
     },
     "execution_count": 119,
     "metadata": {},
     "output_type": "execute_result"
    }
   ],
   "source": [
    "binary_search(68, sorted(lst))"
   ]
  },
  {
   "cell_type": "markdown",
   "metadata": {
    "slideshow": {
     "slide_type": "slide"
    }
   },
   "source": [
    "* Exercise using timeit\n",
    "  * How does each case depend on the number of elements in the list?\n",
    "\n",
    "* Divide and conquer"
   ]
  },
  {
   "cell_type": "markdown",
   "metadata": {
    "slideshow": {
     "slide_type": "slide"
    }
   },
   "source": [
    "### problems with comparing binary search to brute force\n",
    "* number of items in list\n",
    "* hardware"
   ]
  },
  {
   "cell_type": "markdown",
   "metadata": {
    "slideshow": {
     "slide_type": "slide"
    }
   },
   "source": [
    "# Big O notation\n",
    "\n"
   ]
  },
  {
   "cell_type": "markdown",
   "metadata": {
    "slideshow": {
     "slide_type": "slide"
    }
   },
   "source": [
    "![./newplot.png](./newplot.png)"
   ]
  },
  {
   "cell_type": "code",
   "execution_count": 120,
   "metadata": {
    "collapsed": false
   },
   "outputs": [
    {
     "name": "stdout",
     "output_type": "stream",
     "text": [
      "function brute_force_search took 0.0005586147308349609 seconds to complete given parameters\n",
      "0.0005586147308349609\n",
      "\n",
      "function list_search took 1.8596649169921875e-05 seconds to complete given parameters\n",
      "1.8596649169921875e-05\n",
      "\n",
      "function binary_search took 8.535385131835938e-05 seconds to complete given parameters\n",
      "8.535385131835938e-05\n"
     ]
    }
   ],
   "source": [
    "from time import time\n",
    "\n",
    "def func_timer(func, *params, verbose=False):\n",
    "    \"\"\"Takes in a function and some parameters to the function and returns the execution time\"\"\"\n",
    "    start = time()\n",
    "    func(*params)\n",
    "    t = time() - start\n",
    "    if verbose:\n",
    "        print('function {func_name} took {time} seconds to complete given parameters'.format(\n",
    "                func_name=func.__name__, time=t))\n",
    "    return t\n",
    "\n",
    "elem, n = 50, 10000\n",
    "print(func_timer(brute_force_search, elem, get_rand_list(n), verbose=True))\n",
    "print()\n",
    "print(func_timer(list_search, elem, get_rand_list(n), verbose=True))\n",
    "print()\n",
    "print(func_timer(binary_search, elem, sorted(get_rand_list(n)), verbose=True))"
   ]
  },
  {
   "cell_type": "code",
   "execution_count": 151,
   "metadata": {
    "collapsed": false,
    "slideshow": {
     "slide_type": "slide"
    }
   },
   "outputs": [
    {
     "name": "stdout",
     "output_type": "stream",
     "text": [
      "Using matplotlib backend: Qt4Agg\n",
      "<class 'tuple'>\n"
     ]
    }
   ],
   "source": [
    "%matplotlib\n",
    "\n",
    "from matplotlib import pyplot as plt\n",
    "\n",
    "\n",
    "\n",
    "def sort_compare(max_size, num_samples, func):\n",
    "    \"\"\"Returns two lists corresponding to the lengths of random lists and the runtime\n",
    "       execution of function func on those lists.\n",
    "       \"\"\"\n",
    "    assert max_size > num_samples\n",
    "    delta = max_size // num_samples # uses the floor function to get difference between each sample.\n",
    "    lst_lengths = [delta*x for x in range(num_samples)] \n",
    "    lst_of_rand_lsts = [get_rand_list(x) for x in lst_lengths]\n",
    "    func_times_lst = [func_timer(func, 50, lst) for lst in lst_of_rand_lsts]\n",
    "    \n",
    "    return lst_lengths, func_times_lst\n",
    "    \n",
    "    \n",
    "def subplot_generator(lst_lengths, func_times_lst):\n",
    "    plt.plot(lst_lengths, func_times_lst, 'bo')\n",
    "    return\n",
    "    \n",
    "\n",
    "def sort_plotter(max_size, num_samples, *funcs):\n",
    "    \"\"\"Plots functions vs execution time.\n",
    "    \n",
    "    Details\n",
    "    -------\n",
    "    Creates plots of each function in *funcs wrt \n",
    "    execution time by sampling num_samples lists of incremental\n",
    "    length up to length max_size.\n",
    "    \n",
    "    Parameters\n",
    "    ----------\n",
    "    max_size: int\n",
    "        The length of the final list sampled.\n",
    "    num_samples: int\n",
    "        The number of times to sample_the function.\n",
    "    *functs: iterator\n",
    "        An iterator containing the functions we wish to sample.\n",
    "    \n",
    "    Returns\n",
    "    -------\n",
    "    plots: matplotlib.pyplot\n",
    "        Returns subplots with the length of the sampled \n",
    "    list as the x-axis, and the average runtime of the \n",
    "    function over the list using timeit.\n",
    "    NOTE: timeit defaults to 1000 function calls.\n",
    "        \n",
    "    \"\"\"\n",
    " \n",
    "    print(type(funcs))\n",
    "    # sort_compare(max_size, num_samples, func)\n",
    "\n",
    "    return\n",
    "\n",
    "#lst_lengths, func_times_lst = sort_compare(10000, 1000, brute_force_search)\n",
    "#subplot_generator(lst_lengths, func_times_lst)\n",
    "\n",
    "funcs = list_search, brute_force_search\n",
    "#funcs = [list_search, brute_force_search, binary_search]\n",
    "\n",
    "sort_plotter(1000, 100, funcs)"
   ]
  },
  {
   "cell_type": "markdown",
   "metadata": {
    "slideshow": {
     "slide_type": "slide"
    }
   },
   "source": [
    "* Brute force: O(n)\n",
    "* Binary search: O(log(n))"
   ]
  },
  {
   "cell_type": "markdown",
   "metadata": {
    "slideshow": {
     "slide_type": "slide"
    }
   },
   "source": [
    "## Examples of other searches and sorting\n",
    "* [Mike Bostock](http://bost.ocks.org/mike/algorithms/)"
   ]
  },
  {
   "cell_type": "markdown",
   "metadata": {
    "slideshow": {
     "slide_type": "slide"
    }
   },
   "source": [
    "<span class=\"anchor\" id=\"line-9\"></span><div><table style=\"width:\"><tbody><tr>  <td><p class=\"line891\"><strong>Operation</strong> </td>\n",
    "  <td><p class=\"line891\"><strong>Average Case</strong> </td>\n",
    "  <td><p class=\"line891\"><strong><a class=\"http\" href=\"http://en.wikipedia.org/wiki/Amortized_analysis\">Amortized Worst Case</a></strong> </td>\n",
    "</tr>\n",
    "<tr>  <td><span class=\"anchor\" id=\"line-10\"></span><p class=\"line862\">Copy </td>\n",
    "  <td><p class=\"line862\">O(n) </td>\n",
    "  <td><p class=\"line862\">O(n) </td>\n",
    "</tr>\n",
    "<tr>  <td><span class=\"anchor\" id=\"line-11\"></span><p class=\"line862\">Append[1] </td>\n",
    "  <td><p class=\"line862\">O(1) </td>\n",
    "  <td><p class=\"line862\">O(1) </td>\n",
    "</tr>\n",
    "<tr>  <td><span class=\"anchor\" id=\"line-12\"></span><p class=\"line862\">Insert </td>\n",
    "  <td><p class=\"line862\">O(n) </td>\n",
    "  <td><p class=\"line862\">O(n) </td>\n",
    "</tr>\n",
    "<tr>  <td><span class=\"anchor\" id=\"line-13\"></span><p class=\"line862\">Get Item </td>\n",
    "  <td><p class=\"line862\">O(1) </td>\n",
    "  <td><p class=\"line862\">O(1) </td>\n",
    "</tr>\n",
    "<tr>  <td><span class=\"anchor\" id=\"line-14\"></span><p class=\"line862\">Set Item </td>\n",
    "  <td><p class=\"line862\">O(1) </td>\n",
    "  <td><p class=\"line862\">O(1) </td>\n",
    "</tr>\n",
    "<tr>  <td><span class=\"anchor\" id=\"line-15\"></span><p class=\"line862\">Delete Item </td>\n",
    "  <td><p class=\"line862\">O(n) </td>\n",
    "  <td><p class=\"line862\">O(n) </td>\n",
    "</tr>\n",
    "<tr>  <td><span class=\"anchor\" id=\"line-16\"></span><p class=\"line862\">Iteration </td>\n",
    "  <td><p class=\"line862\">O(n) </td>\n",
    "  <td><p class=\"line862\">O(n) </td>\n",
    "</tr>\n",
    "<tr>  <td><span class=\"anchor\" id=\"line-17\"></span><p class=\"line862\">Get Slice </td>\n",
    "  <td><p class=\"line862\">O(k) </td>\n",
    "  <td><p class=\"line862\">O(k) </td>\n",
    "</tr>\n",
    "<tr>  <td><span class=\"anchor\" id=\"line-18\"></span><p class=\"line862\">Del Slice </td>\n",
    "  <td><p class=\"line862\">O(n) </td>\n",
    "  <td><p class=\"line862\">O(n) </td>\n",
    "</tr>\n",
    "<tr>  <td><span class=\"anchor\" id=\"line-19\"></span><p class=\"line862\">Set Slice </td>\n",
    "  <td><p class=\"line862\">O(k+n) </td>\n",
    "  <td><p class=\"line862\">O(k+n) </td>\n",
    "</tr>\n",
    "<tr>  <td><span class=\"anchor\" id=\"line-20\"></span><p class=\"line862\">Extend[1] </td>\n",
    "  <td><p class=\"line862\">O(k) </td>\n",
    "  <td><p class=\"line862\">O(k) </td>\n",
    "</tr>\n",
    "<tr>  <td><span class=\"anchor\" id=\"line-21\"></span><p class=\"line891\"><a class=\"http\" href=\"http://svn.python.org/projects/python/trunk/Objects/listsort.txt\">Sort</a> </td>\n",
    "  <td><p class=\"line862\">O(n log n) </td>\n",
    "  <td><p class=\"line862\">O(n log n) </td>\n",
    "</tr>\n",
    "<tr>  <td><span class=\"anchor\" id=\"line-22\"></span><p class=\"line862\">Multiply </td>\n",
    "  <td><p class=\"line862\">O(nk) </td>\n",
    "  <td><p class=\"line862\">O(nk) </td>\n",
    "</tr>\n",
    "<tr>  <td><span class=\"anchor\" id=\"line-23\"></span><p class=\"line862\">x in s </td>\n",
    "  <td><p class=\"line862\">O(n) </td>\n",
    "  <td><p class=\"line862\"> </td>\n",
    "</tr>\n",
    "<tr>  <td><span class=\"anchor\" id=\"line-24\"></span><p class=\"line862\">min(s), max(s) </td>\n",
    "  <td><p class=\"line862\">O(n) </td>\n",
    "  <td><p class=\"line862\"> </td>\n",
    "</tr>\n",
    "<tr>  <td><span class=\"anchor\" id=\"line-25\"></span><p class=\"line862\">Get Length </td>\n",
    "  <td><p class=\"line862\">O(1) </td>\n",
    "  <td><p class=\"line862\">O(1) </td>\n",
    "</tr>\n",
    "</tbody></table></div><span class=\"anchor\" id=\"line-26\"></span><span class=\"anchor\" id=\"line-27\"></span><span class=\"anchor\" id=\"line-28\"></span>"
   ]
  },
  {
   "cell_type": "markdown",
   "metadata": {
    "slideshow": {
     "slide_type": "slide"
    }
   },
   "source": [
    "## Summary of algorithms\n",
    "* Abstraction\n",
    "  * Language and hardware agnostic\n",
    "  * Big O notation\n",
    "  * Algorithms\n",
    "  "
   ]
  },
  {
   "cell_type": "markdown",
   "metadata": {
    "slideshow": {
     "slide_type": "slide"
    }
   },
   "source": [
    "# Exercise: Anagram detection\n",
    "[source](http://interactivepython.org/courselib/static/pythonds/AlgorithmAnalysis/AnAnagramDetectionExample.html)\n",
    "\n",
    "Choose one of the four approaches:\n",
    "* Code a solution using the method outlined.\n",
    "* Analyze the time complexity.\n",
    "\n",
    "\n",
    "#### 1. Check off\n",
    "> Our first solution to the anagram problem will check to see that each character in the first string actually occurs in the second. If it is possible to “checkoff” each character, then the two strings must be anagrams. Checking off a character will be accomplished by replacing it with the special Python value None. However, since strings in Python are immutable, the first step in the process will be to convert the second string to a list. Each character from the first string can be checked against the characters in the list and if found, checked off by replacement.\n",
    "\n",
    "#### 2. Sort and compare\n",
    ">Another solution to the anagram problem will make use of the fact that even though s1 and s2 are different, they are anagrams only if they consist of exactly the same characters. So, if we begin by sorting each string alphabetically, from a to z, we will end up with the same string if the original two strings are anagrams. ActiveCode 2 shows this solution. Again, in Python we can use the built-in sort method on lists by simply converting each string to a list at the start.\n",
    "\n",
    "#### 3. Brute force\n",
    ">NOTE: This will only work for small strings! \n",
    ">A brute force technique for solving a problem typically tries to exhaust all possibilities. For the anagram detection problem, we can simply generate a list of all possible strings using the characters from s1 and then see if s2 occurs. However, there is a difficulty with this approach. When generating all possible strings from s1, there are n possible first characters, n−1 possible characters for the second position, n−2 for the third, and so on. The total number of candidate strings is n∗(n−1)∗(n−2)∗...∗3∗2∗1, which is n!. Although some of the strings may be duplicates, the program cannot know this ahead of time and so it will still generate n! different strings.\n",
    "\n",
    "#### 4. Count and compare\n",
    ">Our final solution to the anagram problem takes advantage of the fact that any two anagrams will have the same number of a’s, the same number of b’s, the same number of c’s, and so on. In order to decide whether two strings are anagrams, we will first count the number of times each character occurs. Since there are 26 possible characters, we can use a list of 26 counters, one for each possible character. Each time we see a particular character, we will increment the counter at that position. In the end, if the two lists of counters are identical, the strings must be anagrams.\n",
    "\n",
    "extra credit: implement 4. using collections.counter.\n",
    "\n"
   ]
  },
  {
   "cell_type": "code",
   "execution_count": null,
   "metadata": {
    "collapsed": true
   },
   "outputs": [],
   "source": []
  }
 ],
 "metadata": {
  "celltoolbar": "Slideshow",
  "kernelspec": {
   "display_name": "Python 3",
   "language": "python",
   "name": "python3"
  },
  "language_info": {
   "codemirror_mode": {
    "name": "ipython",
    "version": 3
   },
   "file_extension": ".py",
   "mimetype": "text/x-python",
   "name": "python",
   "nbconvert_exporter": "python",
   "pygments_lexer": "ipython3",
   "version": "3.4.3"
  }
 },
 "nbformat": 4,
 "nbformat_minor": 0
}
