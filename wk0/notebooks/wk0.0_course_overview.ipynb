{
 "cells": [
  {
   "cell_type": "markdown",
   "metadata": {},
   "source": [
    "# Relevant links to include\n",
    "* [blog post about programmer portfolios](https://blog.codinghorror.com/a-programmers-portfolio/)\n",
    "* [pragmatic programming principles](https://blog.codinghorror.com/a-pragmatic-quick-reference/)\n",
    "* [pic of the full stack](https://i.stack.imgur.com/FPWXS.png)\n",
    "* [Teach yourself programming in ten years](http://norvig.com/21-days.html)\n",
    "* [Unix philosophy](https://en.wikipedia.org/wiki/Unix_philosophy)\n",
    "* [Notes on the full stack](https://www.facebook.com/notes/facebook-engineering/the-full-stack-part-i/461505383919)\n",
    "* [The rise and fall of the full stack developer](http://techcrunch.com/2014/11/08/the-rise-and-fall-of-the-full-stack-developer/)\n",
    "* [Layers of the full stack](http://www.laurencegellert.com/2012/08/what-is-a-full-stack-developer/)\n",
    "\n",
    "# Python links\n",
    "\n",
    "* [Learn Python the hard way](http://learnpythonthehardway.org/)\n",
    "* [Think Python](http://www.greenteapress.com/thinkpython/)\n",
    "* [Python 3.5 official tutorial](https://docs.python.org/3.5/tutorial/)\n"
   ]
  },
  {
   "cell_type": "markdown",
   "metadata": {},
   "source": [
    "# Wk0.0\n",
    "## Introduction: Hello Code Guild!\n",
    "\n",
    "### Who I am\n",
    "\n",
    "* My contact info\n",
    "* Where does course info live?\n",
    "\n",
    "\n",
    "### What this course is about\n",
    "\n",
    "\n",
    "### Course overview and tentative timeline"
   ]
  },
  {
   "cell_type": "markdown",
   "metadata": {
    "collapsed": true
   },
   "source": [
    "# wk0: Python\n",
    "\n",
    "* Did you know: Python is named after the BBC show “Monty Python’s Flying Circus” and has nothing to do with reptiles. \n",
    "\n",
    "## Initialization: Shaving the yak\n",
    "\n",
    "* Install:\n",
    "  * Python3\n",
    "  * IPython\n",
    "  * git\n",
    "  \n",
    "* Deliverables:\n",
    "  * Check that python and ipython are correctly installed by running the REPL (read-eval-print-loop) from your command line (your output should look something like the next line).\n",
    "  "
   ]
  },
  {
   "cell_type": "code",
   "execution_count": null,
   "metadata": {
    "collapsed": false
   },
   "outputs": [
    {
     "name": "stdout",
     "output_type": "stream",
     "text": [
      "Python 3.4.3 |Anaconda 2.3.0 (64-bit)| (default, Jun  4 2015, 15:29:08) \n",
      "Type \"copyright\", \"credits\" or \"license\" for more information.\n",
      "\n",
      "IPython 4.0.0 -- An enhanced Interactive Python.\n",
      "?         -> Introduction and overview of IPython's features.\n",
      "%quickref -> Quick reference.\n",
      "help      -> Python's own help system.\n",
      "object?   -> Details about 'object', use 'object??' for extra details.\n",
      "\n",
      "\u001b[0;32mIn [\u001b[1;32m1\u001b[0;32m]: \u001b[0m\n",
      "KeyboardInterrupt\n",
      "\n",
      "\u001b[0;32mIn [\u001b[1;32m1\u001b[0;32m]: \u001b[0m\n",
      "\n",
      "\u001b[0;32mIn [\u001b[1;32m1\u001b[0;32m]: \u001b[0m"
     ]
    }
   ],
   "source": [
    "!ipython"
   ]
  },
  {
   "cell_type": "markdown",
   "metadata": {},
   "source": [
    "* Open up ipython notebook by run"
   ]
  },
  {
   "cell_type": "code",
   "execution_count": null,
   "metadata": {
    "collapsed": true
   },
   "outputs": [],
   "source": []
  }
 ],
 "metadata": {
  "kernelspec": {
   "display_name": "Python 3",
   "language": "python",
   "name": "python3"
  },
  "language_info": {
   "codemirror_mode": {
    "name": "ipython",
    "version": 3
   },
   "file_extension": ".py",
   "mimetype": "text/x-python",
   "name": "python",
   "nbconvert_exporter": "python",
   "pygments_lexer": "ipython3",
   "version": "3.4.3"
  }
 },
 "nbformat": 4,
 "nbformat_minor": 0
}
