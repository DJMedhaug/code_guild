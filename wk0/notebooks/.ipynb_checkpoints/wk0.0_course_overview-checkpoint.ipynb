{
 "cells": [
  {
   "cell_type": "markdown",
   "metadata": {},
   "source": [
    "# Relevant links to include\n",
    "* [blog post about programmer portfolios](https://blog.codinghorror.com/a-programmers-portfolio/)\n",
    "* [pragmatic programming principles](https://blog.codinghorror.com/a-pragmatic-quick-reference/)\n",
    "* [pic of the full stack](https://i.stack.imgur.com/FPWXS.png)\n",
    "* [Teach yourself programming in ten years](http://norvig.com/21-days.html)\n",
    "* [Unix philosophy](https://en.wikipedia.org/wiki/Unix_philosophy)\n",
    "* [Notes on the full stack](https://www.facebook.com/notes/facebook-engineering/the-full-stack-part-i/461505383919)\n",
    "* [The rise and fall of the full stack developer](http://techcrunch.com/2014/11/08/the-rise-and-fall-of-the-full-stack-developer/)\n",
    "* [Layers of the full stack](http://www.laurencegellert.com/2012/08/what-is-a-full-stack-developer/)\n",
    "\n",
    "# Python links\n",
    "\n",
    "* [Learn Python the hard way](http://learnpythonthehardway.org/)\n",
    "* [Think Python](http://www.greenteapress.com/thinkpython/)\n",
    "* [Python 3.5 official tutorial](https://docs.python.org/3.5/tutorial/)\n"
   ]
  },
  {
   "cell_type": "markdown",
   "metadata": {},
   "source": [
    "# Wk0.0\n",
    "## Introduction: Hello Code Guild!\n",
    "\n",
    "### Who I am\n",
    "\n",
    "* My contact info\n",
    "* Where does course info live?\n",
    "\n",
    "\n",
    "### What this course is about\n",
    "\n",
    "\n",
    "### Course overview and tentative timeline"
   ]
  },
  {
   "cell_type": "markdown",
   "metadata": {
    "collapsed": true
   },
   "source": [
    "# wk0: Python\n",
    "\n",
    "* Did you know: Python is named after the BBC show “Monty Python’s Flying Circus” and has nothing to do with reptiles. \n",
    "\n",
    "## Initialization: Shaving the yak\n",
    "\n",
    "* Install:\n",
    "  * Python3\n",
    "  * IPython\n",
    "  * git"
   ]
  },
  {
   "cell_type": "code",
   "execution_count": null,
   "metadata": {
    "collapsed": true
   },
   "outputs": [],
   "source": []
  }
 ],
 "metadata": {
  "kernelspec": {
   "display_name": "Python 3",
   "language": "python",
   "name": "python3"
  },
  "language_info": {
   "codemirror_mode": {
    "name": "ipython",
    "version": 3
   },
   "file_extension": ".py",
   "mimetype": "text/x-python",
   "name": "python",
   "nbconvert_exporter": "python",
   "pygments_lexer": "ipython3",
   "version": "3.4.3"
  }
 },
 "nbformat": 4,
 "nbformat_minor": 0
}
